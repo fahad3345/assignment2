{
 "cells": [
  {
   "cell_type": "code",
   "execution_count": 40,
   "metadata": {},
   "outputs": [
    {
     "name": "stdout",
     "output_type": "stream",
     "text": [
      "[[ 10  20  30   0]\n",
      " [  8  12   2   0]\n",
      " [ 34  70  37   4]\n",
      " [112 100  25  12]] \n",
      "\n",
      "\n",
      " [[ 20  30]\n",
      " [112  37]]\n"
     ]
    }
   ],
   "source": [
    "'''2). using for loop combination, implement the logic of converting 4x4 matrix to 2x2, by taking 2x2 window size. \n",
    "chk the box, the same color is the window and from each window, the maximum value is selected. \n",
    "you have to create the logic, where if you feed any 4x4 matrix it should return the 2x2 matrix in this manner.'''\n",
    "\n",
    "\n",
    "\n",
    "import numpy as np\n",
    "four=np.array([[10,20,30,0],[8,12,2,0],[34,70,37,4],[112,100,25,12]])\n",
    "li=[]\n",
    "li.append(four[0,1])\n",
    "li.append(four[0,0])\n",
    "li.append(four[1,0])\n",
    "li.append(four[1,1])\n",
    "val=li[0]\n",
    "for i in li:\n",
    "    if(i>val):\n",
    "        val=i \n",
    "k=val\n",
    "li=[]\n",
    "li.append(four[0,2])\n",
    "li.append(four[0,3])\n",
    "li.append(four[1,2])\n",
    "li.append(four[1,3])\n",
    "val=li[0]\n",
    "for i in li:\n",
    "    if(i>val):\n",
    "        val=i \n",
    "l=val\n",
    "li=[]\n",
    "li.append(four[2,0])\n",
    "li.append(four[2,1])\n",
    "li.append(four[3,0])\n",
    "li.append(four[3,1])\n",
    "val=li[0]\n",
    "for i in li:\n",
    "    if(i>val):\n",
    "        val=i \n",
    "m=val\n",
    "li=[]\n",
    "li.append(four[2,2])\n",
    "li.append(four[2,3])\n",
    "li.append(four[3,2])\n",
    "li.append(four[3,3])\n",
    "val=li[0]\n",
    "for i in li:\n",
    "    if(i>val):\n",
    "        val=i \n",
    "n=val\n",
    "two=np.array([[k,l],[m,n]])\n",
    "print(four,'\\n\\n\\n',two)\n"
   ]
  },
  {
   "cell_type": "code",
   "execution_count": null,
   "metadata": {},
   "outputs": [],
   "source": []
  },
  {
   "cell_type": "code",
   "execution_count": null,
   "metadata": {},
   "outputs": [],
   "source": []
  }
 ],
 "metadata": {
  "kernelspec": {
   "display_name": "Python 3",
   "language": "python",
   "name": "python3"
  },
  "language_info": {
   "codemirror_mode": {
    "name": "ipython",
    "version": 3
   },
   "file_extension": ".py",
   "mimetype": "text/x-python",
   "name": "python",
   "nbconvert_exporter": "python",
   "pygments_lexer": "ipython3",
   "version": "3.8.5"
  }
 },
 "nbformat": 4,
 "nbformat_minor": 4
}
